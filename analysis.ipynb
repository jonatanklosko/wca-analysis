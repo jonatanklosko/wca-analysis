{
 "cells": [
  {
   "cell_type": "markdown",
   "metadata": {},
   "source": [
    "# Analiza oficjalnych wyników WCA\n",
    "\n",
    "*Data: 17 stycznia 2020* *Autor: Jonatan Kłosko*\n",
    "\n",
    "Niniejszy dokument ma na celu przedstawienie analizy wyników speedcubingowych uznanych przez oficjalną organizację WCA.\n",
    "\n",
    "## Kontekst\n",
    "\n",
    "Speedcubing jest dyscypliną polegającą na układaniu Kostki Rubika oraz innych tego typu łamigłówek w [jak najkrótszym czasie](https://youtu.be/NevGDFBfQGw).\n",
    "\n",
    "[WCA (World Cube Association)](https://www.worldcubeassociation.org/about) to organizacja odpowiadająca za regulowanie oficjalnych spraw związanych ze speedcubingiem. Zajmuje się między innymi: definiowaniem i ujednolicaniem zasad przeprowadzania zawodów, zapewnianiem poprawnego przebiegu zawodów (przy pomocy reprezentujących ją delegatów), utrzymywaniem oficjalnych rankingów i rekordów oraz prowadzeniu działań mających na celu rozwój speedcubingu.\n",
    "\n",
    "Zawody WCA odbywają się na całym świecie w każdy weekend, w roku 2019 było ich średnio 25 na tydzień. W tymże roku na zawodach pojawiło się 48 418 różnych osób (średnio 75 zawodników na zawody, 885 na największych z nich), które wykonały łącznie 2 537 840 udanych ułożeń.\n",
    "\n",
    "Podczas zawodów odbywa się od kilku do kilkunasu spośród 17 oficjalnych konkurencji (między innymi [kostki](https://www.thecubicle.com/pages/wca-puzzles) w rozmiarach od 2x2x2 do 7x7x7, czworościan/dwunastościan foremny, układanie klasycznej kostki jedną ręką, bez patrzenia oraz w jak najmniejszej liczbie ruchów). Dla danej konkurencji może odbywać się od jednej do czterech rund (etapów), do których zawodnicy awansują na podstawie rezultatów uzyskanych z rundzie poprzedniej.\n",
    "\n",
    "W większości konkurencji podczas rundy zawodnik wykonuje 5 ułożeń (*attempts*), na podstawie których wyróżnia się dwa wskaźniki: najlepsze ułożenie (*best of 5*) oraz średnią obliczaną po odrzuceniu najgorszego i najlepszego wyniku (*average*). Wskaźnikiem determinującym pozycję zawodnika w rundzie jest właśnie średnia.\n",
    "\n",
    "## Zbiór danych\n",
    "\n",
    "Analizowane dane pochodzą z [bazy danych WCA](https://www.worldcubeassociation.org/results/misc/export.html). Na potrzeby analizy przygotowano na ich podstawie bazę danych SQLite zawierającą odpowiedni podzbiór danych.\n",
    "\n",
    "Tabele znajdujące się w bazie:\n",
    "- `competitions` - zbiór oficjalnych zawodów WCA\n",
    "- `events` - zbiór konkurencji WCA (kilka z nich nie jest już oficjalna, natomiast występują dla nich wyniki)\n",
    "- `people` - zbiór zawodników, którzy kiedykolwiek wzięli udział w zawodach\n",
    "- `results` - zbiór wyników z zawodów (każdy rekord odpowiada rezultatom jednej osoby z jednej rundy, czyli zawiera wszystkie 5 ułożeń)\n",
    "\n",
    "Głównym przedmiotem poniższej analizy są wyniki (`results`). Istotnym szczegółem jest sposób przechowywania poszczególnych prób. Pola `attempt{n}`, `best` oraz `average` w przypadku większości konkurencji są wyrażone jako liczby całkowite reprezentujące liczbę centysekund (zatem czas `1:10.25 s` jest przechowywany jako liczba `7025`). Dodatkowo wyróżnia się trzy szczególne wartości:\n",
    "- `0` - oznacza pominięcie próby występujące m.i. w przypadku konkurencji, w których wykonywane jest mniej niż 5 ułożeń\n",
    "- `-1` - reprezentuje wartość DNF (Did Not Finish) oznaczającą dyskwalifikację ułożenia, która może wynikać z zakończenia ułożenia z nieułożoną łamigłówką lub naruszenia regulaminu\n",
    "- `-2` - reprezentuje wartość DNS (Did Not Start) oznaczającą celowe niewykonanie przez zawodnika próby, pomimo kwalifikowanie się na nią\n",
    "\n",
    "Jako że wartości szczególne nie mają sensu liczbowego, są one ignorowane podczas analizy danych.\n",
    "\n",
    "## Dodatkowe źródła\n",
    "\n",
    "- [Max Park | How The Rubik's Cube Changed His Life](https://youtu.be/DHgC2Ru7_MQ) - krótki film przedstawiający inspirującą historię jednego z najwybitniejszych zawodników w historii\n",
    "- [Why We Cube](https://youtu.be/1oZY2e25VUw) - film dokumentalny przezentujący speedcubing z perspektyw interesujących zawodników\n",
    "- [Rankingi WCA](https://www.worldcubeassociation.org/results/rankings/333/single) - oficjalne rankingi bezpośrednio związane z analizowanymi danymi\n",
    "- [WCA Statistics](https://jonatanklosko.github.io/wca_statistics) - zbiór wielu rankingów/zestawień wykonanych przeze mnie na podstawie danych WCA"
   ]
  },
  {
   "cell_type": "markdown",
   "metadata": {},
   "source": [
    "## Przygotowanie środowiska\n",
    "\n",
    "Załadowanie odpowiednich pakietów oraz połączenie z przygotowaną bazą."
   ]
  },
  {
   "cell_type": "code",
   "execution_count": 1,
   "metadata": {},
   "outputs": [],
   "source": [
    "import sqlite3\n",
    "import pandas as pd\n",
    "import matplotlib.pyplot as plt\n",
    "import numpy as np\n",
    "from scipy import stats"
   ]
  },
  {
   "cell_type": "code",
   "execution_count": 2,
   "metadata": {},
   "outputs": [],
   "source": [
    "pd.set_option(\"display.float_format\", lambda x: \"%.5f\" % x)\n",
    "connection = sqlite3.connect(\"data/wca.db\")"
   ]
  },
  {
   "cell_type": "markdown",
   "metadata": {},
   "source": [
    "## Analiza wyników\n",
    "\n",
    "W pierwszym kroku przyjrzyjmy się rozkładom wyników w klasycznej kostce 3x3x3."
   ]
  },
  {
   "cell_type": "code",
   "execution_count": 3,
   "metadata": {},
   "outputs": [],
   "source": [
    "results333 = pd.read_sql_query(\"SELECT * FROM results WHERE event_id = '333' AND best > 0\", connection)"
   ]
  },
  {
   "cell_type": "code",
   "execution_count": 4,
   "metadata": {},
   "outputs": [],
   "source": [
    "attempt_columns = [\"attempt1\", \"attempt2\", \"attempt3\", \"attempt4\", \"attempt5\"]\n",
    "def complete_attempts(results):\n",
    "    all_attempts = results[attempt_columns].stack()\n",
    "    return all_attempts[all_attempts > 0]"
   ]
  },
  {
   "cell_type": "code",
   "execution_count": 5,
   "metadata": {},
   "outputs": [
    {
     "data": {
      "image/png": "[encoded data removed]",
      "text/plain": [
       "<Figure size 432x288 with 1 Axes>"
      ]
     },
     "metadata": {
      "needs_background": "light"
     },
     "output_type": "display_data"
    }
   ],
   "source": [
    "all_333_attempts_s = complete_attempts(results333) / 100\n",
    "plt.hist(all_333_attempts_s, bins=np.linspace(0, 60, 500), density=True)\n",
    "plt.title(\"[3x3x3] All attempts\")\n",
    "plt.xlabel(\"Time [s]\")\n",
    "\n",
    "plt.show()"
   ]
  },
  {
   "cell_type": "code",
   "execution_count": 6,
   "metadata": {},
   "outputs": [
    {
     "data": {
      "text/plain": [
       "4.916282508598442"
      ]
     },
     "execution_count": 6,
     "metadata": {},
     "output_type": "execute_result"
    }
   ],
   "source": [
    "stats.skew(all_333_attempts_s)"
   ]
  },
  {
   "cell_type": "code",
   "execution_count": 7,
   "metadata": {},
   "outputs": [
    {
     "data": {
      "text/plain": [
       "count   3484835.00000\n",
       "mean         23.80672\n",
       "std          20.27380\n",
       "min           3.47000\n",
       "25%          13.09000\n",
       "50%          17.39000\n",
       "75%          26.34000\n",
       "max         908.00000\n",
       "dtype: float64"
      ]
     },
     "execution_count": 7,
     "metadata": {},
     "output_type": "execute_result"
    }
   ],
   "source": [
    "all_333_attempts_s.describe()"
   ]
  },
  {
   "cell_type": "code",
   "execution_count": 8,
   "metadata": {},
   "outputs": [
    {
     "data": {
      "text/plain": [
       "0   13.56000\n",
       "dtype: float64"
      ]
     },
     "execution_count": 8,
     "metadata": {},
     "output_type": "execute_result"
    }
   ],
   "source": [
    "all_333_attempts_s.mode()"
   ]
  },
  {
   "cell_type": "markdown",
   "metadata": {},
   "source": [
    "Powyższy histogram przedstawia rozkład czasów wszystkich udanych ułożeń kostki 3x3x3. Rozkład ten jest prawostronnie skośny, czego uzasadnieniem jest fakt, że większość osób rozpoczynających swoją speedcubingową karierę szybko poprawia swoje czasy (zatem kolejne występy w zawodach są lepsze od poprzednich), jednak im lepsze czasy tym wolniej przychodzi ich poprawa. Najczęsciej występującym czasem jest 13.56, a liczba lepszych wyników gwałtownie maleje, ponieważ pokonywanie kolejnych progów czasowych jest stosunkowo trudne w porównaniu z inicjalnym rozwojem i wiele osób zatrzymuje się na tym etapie.\n",
    "\n",
    "Jako że zazwyczaj czasy w ramach 5 prób nie odbiegają od siebie znacząco, oba wyznaczane dla nich wskaźniki (*best* oraz *average*) mają niemalże identyczny kształt rozkładu:"
   ]
  },
  {
   "cell_type": "code",
   "execution_count": 9,
   "metadata": {},
   "outputs": [
    {
     "data": {
      "image/png": "[encoded data removed]",
      "text/plain": [
       "<Figure size 1008x345.6 with 2 Axes>"
      ]
     },
     "metadata": {
      "needs_background": "light"
     },
     "output_type": "display_data"
    }
   ],
   "source": [
    "fig, (ax1, ax2) = plt.subplots(1, 2, figsize=(14, 4.8))\n",
    "ax1.hist(results333.best / 100, bins=np.linspace(0, 60, 500))\n",
    "ax1.set_title(\"[3x3x3] Best of 5\")\n",
    "ax1.set_xlabel(\"Time [s]\")\n",
    "ax2.hist(results333.average[lambda a: a > 0] / 100, bins=np.linspace(0, 60, 500))\n",
    "ax2.set_title(\"[3x3x3] Average\")\n",
    "ax2.set_xlabel(\"Time [s]\")\n",
    "plt.show()"
   ]
  },
  {
   "cell_type": "code",
   "execution_count": 147,
   "metadata": {},
   "outputs": [
    {
     "data": {
      "image/png": "[encoded data removed]",
      "text/plain": [
       "<Figure size 432x288 with 1 Axes>"
      ]
     },
     "metadata": {
      "needs_background": "light"
     },
     "output_type": "display_data"
    }
   ],
   "source": [
    "all_333_attempts_s = complete_attempts(results333) / 100\n",
    "plt.hist(all_333_attempts_s, bins=np.linspace(0, 60, 500), density=True)\n",
    "plt.title(\"[3x3x3] All attempts\")\n",
    "plt.xlabel(\"Time [s]\")\n",
    "\n",
    "# Fit Inverse Weibull distribution using MLE (Maximum Likelihood Estimation)\n",
    "params = stats.invweibull.fit(all_333_attempts_s.sample(10000))\n",
    "x = np.linspace(0, 60, 100)\n",
    "y = stats.invweibull.pdf(x, *params)\n",
    "plt.plot(x, y, color=\"orange\")\n",
    "\n",
    "plt.show()"
   ]
  },
  {
   "cell_type": "markdown",
   "metadata": {},
   "source": [
    "Powyżej znajduje się ponownie histogram wszystkich czasów wraz z dopasowanym do niego rozkładem odwrotnym Weibulla, który w znacznym stopniu pasuje do danych, jednak baganie zgodności dopasowanego rozkładu przy pomocy testu Kołmogorowa-Smirnowa, prowadzi do odrzucenia tej hipotezy."
   ]
  },
  {
   "cell_type": "code",
   "execution_count": 148,
   "metadata": {},
   "outputs": [
    {
     "data": {
      "text/plain": [
       "KstestResult(statistic=0.014250824983926602, pvalue=0.0)"
      ]
     },
     "execution_count": 148,
     "metadata": {},
     "output_type": "execute_result"
    }
   ],
   "source": [
    "stats.kstest(all_333_attempts_s, stats.invweibull.cdf, args=params)"
   ]
  },
  {
   "cell_type": "markdown",
   "metadata": {},
   "source": [
    "Zaskakujący rezultat otrzymamy sporządzając tenże histogram, tym razem z dokładnością do setnej sekundy:"
   ]
  },
  {
   "cell_type": "code",
   "execution_count": 12,
   "metadata": {},
   "outputs": [
    {
     "data": {
      "image/png": "[encoded data removed]",
      "text/plain": [
       "<Figure size 432x288 with 1 Axes>"
      ]
     },
     "metadata": {
      "needs_background": "light"
     },
     "output_type": "display_data"
    }
   ],
   "source": [
    "plt.hist(all_333_attempts_s, bins=np.linspace(0, 30, 3000))\n",
    "plt.title(\"[3x3x3] All attempts\")\n",
    "plt.xlabel(\"Time [s]\")\n",
    "plt.show()"
   ]
  },
  {
   "cell_type": "markdown",
   "metadata": {},
   "source": [
    "Wskazje on jasno, że uzyskanie niektórych czasów jest zdecydowanie bardziej prawdopodobne od pozostałych. Fakt ten jest związany z błędnym funkcjonowaniem stoperów używanych dawniej na zawodach, które skutkowało małym prawdopodobieństwem uzyskania pewnych konkretnych wartości. W celu jasnego pokazania tego zobaczmy analogiczne histogramy dla wyników sprzed 2012 roku oraz po 2016."
   ]
  },
  {
   "cell_type": "code",
   "execution_count": 13,
   "metadata": {},
   "outputs": [],
   "source": [
    "results333_old = pd.read_sql_query(\"\"\"\n",
    "    SELECT results.* FROM results\n",
    "    JOIN competitions\n",
    "    ON competitions.id = competition_id\n",
    "    WHERE event_id = '333' AND best > 0 AND start_date < '2012-01-01'\n",
    "\"\"\", connection)\n",
    "results333_recent = pd.read_sql_query(\"\"\"\n",
    "    SELECT results.* FROM results\n",
    "    JOIN competitions\n",
    "    ON competitions.id = competition_id\n",
    "    WHERE event_id = '333' AND best > 0 AND start_date >= '2017-01-01'\n",
    "\"\"\", connection)"
   ]
  },
  {
   "cell_type": "code",
   "execution_count": 14,
   "metadata": {},
   "outputs": [
    {
     "data": {
      "image/png": "[encoded data removed]",
      "text/plain": [
       "<Figure size 1008x345.6 with 2 Axes>"
      ]
     },
     "metadata": {
      "needs_background": "light"
     },
     "output_type": "display_data"
    }
   ],
   "source": [
    "fig, (ax1, ax2) = plt.subplots(1, 2, figsize=(14, 4.8))\n",
    "ax1.hist(complete_attempts(results333_old) / 100, bins=np.linspace(0, 30, 3000))\n",
    "ax1.set_title(\"[3x3x3] All attempts before 2012\")\n",
    "ax1.set_xlabel(\"Time [s]\")\n",
    "ax2.hist(complete_attempts(results333_recent) / 100, bins=np.linspace(0, 30, 3000))\n",
    "ax2.set_title(\"[3x3x3] All attempts after 2016\")\n",
    "ax2.set_xlabel(\"Time [s]\")\n",
    "plt.show()"
   ]
  },
  {
   "cell_type": "markdown",
   "metadata": {},
   "source": [
    "Stopery nowszej generacji nie posiadają omawianej wady, co wiecej mierzą one czasy z precyzją jednej tysięcznej sekundy, jednak w celu zachowania spójności wyniki nadal rejestruje się z dokładnością do jednej setnej.\n",
    "\n",
    "Przyjrzyjmy się teraz macierzy korelacji wyniku (z przyczyn omawianych wcześniej pomijamy wyniki mające co najmniej jedną próbe o niedodatniej wartości)."
   ]
  },
  {
   "cell_type": "code",
   "execution_count": 15,
   "metadata": {},
   "outputs": [
    {
     "data": {
      "text/html": [
       "<div>\n",
       "<style scoped>\n",
       "    .dataframe tbody tr th:only-of-type {\n",
       "        vertical-align: middle;\n",
       "    }\n",
       "\n",
       "    .dataframe tbody tr th {\n",
       "        vertical-align: top;\n",
       "    }\n",
       "\n",
       "    .dataframe thead th {\n",
       "        text-align: right;\n",
       "    }\n",
       "</style>\n",
       "<table border=\"1\" class=\"dataframe\">\n",
       "  <thead>\n",
       "    <tr style=\"text-align: right;\">\n",
       "      <th></th>\n",
       "      <th>id</th>\n",
       "      <th>ranking</th>\n",
       "      <th>is_final</th>\n",
       "      <th>attempt1</th>\n",
       "      <th>attempt2</th>\n",
       "      <th>attempt3</th>\n",
       "      <th>attempt4</th>\n",
       "      <th>attempt5</th>\n",
       "      <th>best</th>\n",
       "      <th>average</th>\n",
       "    </tr>\n",
       "  </thead>\n",
       "  <tbody>\n",
       "    <tr>\n",
       "      <th>id</th>\n",
       "      <td>1.00000</td>\n",
       "      <td>0.11345</td>\n",
       "      <td>-0.04749</td>\n",
       "      <td>-0.07776</td>\n",
       "      <td>-0.07904</td>\n",
       "      <td>-0.07914</td>\n",
       "      <td>-0.08052</td>\n",
       "      <td>-0.07946</td>\n",
       "      <td>-0.08734</td>\n",
       "      <td>-0.08318</td>\n",
       "    </tr>\n",
       "    <tr>\n",
       "      <th>ranking</th>\n",
       "      <td>0.11345</td>\n",
       "      <td>1.00000</td>\n",
       "      <td>-0.19440</td>\n",
       "      <td>0.29266</td>\n",
       "      <td>0.29524</td>\n",
       "      <td>0.29708</td>\n",
       "      <td>0.29803</td>\n",
       "      <td>0.29794</td>\n",
       "      <td>0.31723</td>\n",
       "      <td>0.31579</td>\n",
       "    </tr>\n",
       "    <tr>\n",
       "      <th>is_final</th>\n",
       "      <td>-0.04749</td>\n",
       "      <td>-0.19440</td>\n",
       "      <td>1.00000</td>\n",
       "      <td>-0.16193</td>\n",
       "      <td>-0.16395</td>\n",
       "      <td>-0.16358</td>\n",
       "      <td>-0.16408</td>\n",
       "      <td>-0.16323</td>\n",
       "      <td>-0.17704</td>\n",
       "      <td>-0.17425</td>\n",
       "    </tr>\n",
       "    <tr>\n",
       "      <th>attempt1</th>\n",
       "      <td>-0.07776</td>\n",
       "      <td>0.29266</td>\n",
       "      <td>-0.16193</td>\n",
       "      <td>1.00000</td>\n",
       "      <td>0.87289</td>\n",
       "      <td>0.87428</td>\n",
       "      <td>0.87462</td>\n",
       "      <td>0.87377</td>\n",
       "      <td>0.92615</td>\n",
       "      <td>0.94260</td>\n",
       "    </tr>\n",
       "    <tr>\n",
       "      <th>attempt2</th>\n",
       "      <td>-0.07904</td>\n",
       "      <td>0.29524</td>\n",
       "      <td>-0.16395</td>\n",
       "      <td>0.87289</td>\n",
       "      <td>1.00000</td>\n",
       "      <td>0.87618</td>\n",
       "      <td>0.87698</td>\n",
       "      <td>0.87563</td>\n",
       "      <td>0.93148</td>\n",
       "      <td>0.94446</td>\n",
       "    </tr>\n",
       "    <tr>\n",
       "      <th>attempt3</th>\n",
       "      <td>-0.07914</td>\n",
       "      <td>0.29708</td>\n",
       "      <td>-0.16358</td>\n",
       "      <td>0.87428</td>\n",
       "      <td>0.87618</td>\n",
       "      <td>1.00000</td>\n",
       "      <td>0.87710</td>\n",
       "      <td>0.87631</td>\n",
       "      <td>0.93130</td>\n",
       "      <td>0.94527</td>\n",
       "    </tr>\n",
       "    <tr>\n",
       "      <th>attempt4</th>\n",
       "      <td>-0.08052</td>\n",
       "      <td>0.29803</td>\n",
       "      <td>-0.16408</td>\n",
       "      <td>0.87462</td>\n",
       "      <td>0.87698</td>\n",
       "      <td>0.87710</td>\n",
       "      <td>1.00000</td>\n",
       "      <td>0.88040</td>\n",
       "      <td>0.93521</td>\n",
       "      <td>0.94704</td>\n",
       "    </tr>\n",
       "    <tr>\n",
       "      <th>attempt5</th>\n",
       "      <td>-0.07946</td>\n",
       "      <td>0.29794</td>\n",
       "      <td>-0.16323</td>\n",
       "      <td>0.87377</td>\n",
       "      <td>0.87563</td>\n",
       "      <td>0.87631</td>\n",
       "      <td>0.88040</td>\n",
       "      <td>1.00000</td>\n",
       "      <td>0.93391</td>\n",
       "      <td>0.94580</td>\n",
       "    </tr>\n",
       "    <tr>\n",
       "      <th>best</th>\n",
       "      <td>-0.08734</td>\n",
       "      <td>0.31723</td>\n",
       "      <td>-0.17704</td>\n",
       "      <td>0.92615</td>\n",
       "      <td>0.93148</td>\n",
       "      <td>0.93130</td>\n",
       "      <td>0.93521</td>\n",
       "      <td>0.93391</td>\n",
       "      <td>1.00000</td>\n",
       "      <td>0.98384</td>\n",
       "    </tr>\n",
       "    <tr>\n",
       "      <th>average</th>\n",
       "      <td>-0.08318</td>\n",
       "      <td>0.31579</td>\n",
       "      <td>-0.17425</td>\n",
       "      <td>0.94260</td>\n",
       "      <td>0.94446</td>\n",
       "      <td>0.94527</td>\n",
       "      <td>0.94704</td>\n",
       "      <td>0.94580</td>\n",
       "      <td>0.98384</td>\n",
       "      <td>1.00000</td>\n",
       "    </tr>\n",
       "  </tbody>\n",
       "</table>\n",
       "</div>"
      ],
      "text/plain": [
       "               id  ranking  is_final  attempt1  attempt2  attempt3  attempt4  \\\n",
       "id        1.00000  0.11345  -0.04749  -0.07776  -0.07904  -0.07914  -0.08052   \n",
       "ranking   0.11345  1.00000  -0.19440   0.29266   0.29524   0.29708   0.29803   \n",
       "is_final -0.04749 -0.19440   1.00000  -0.16193  -0.16395  -0.16358  -0.16408   \n",
       "attempt1 -0.07776  0.29266  -0.16193   1.00000   0.87289   0.87428   0.87462   \n",
       "attempt2 -0.07904  0.29524  -0.16395   0.87289   1.00000   0.87618   0.87698   \n",
       "attempt3 -0.07914  0.29708  -0.16358   0.87428   0.87618   1.00000   0.87710   \n",
       "attempt4 -0.08052  0.29803  -0.16408   0.87462   0.87698   0.87710   1.00000   \n",
       "attempt5 -0.07946  0.29794  -0.16323   0.87377   0.87563   0.87631   0.88040   \n",
       "best     -0.08734  0.31723  -0.17704   0.92615   0.93148   0.93130   0.93521   \n",
       "average  -0.08318  0.31579  -0.17425   0.94260   0.94446   0.94527   0.94704   \n",
       "\n",
       "          attempt5     best  average  \n",
       "id        -0.07946 -0.08734 -0.08318  \n",
       "ranking    0.29794  0.31723  0.31579  \n",
       "is_final  -0.16323 -0.17704 -0.17425  \n",
       "attempt1   0.87377  0.92615  0.94260  \n",
       "attempt2   0.87563  0.93148  0.94446  \n",
       "attempt3   0.87631  0.93130  0.94527  \n",
       "attempt4   0.88040  0.93521  0.94704  \n",
       "attempt5   1.00000  0.93391  0.94580  \n",
       "best       0.93391  1.00000  0.98384  \n",
       "average    0.94580  0.98384  1.00000  "
      ]
     },
     "execution_count": 15,
     "metadata": {},
     "output_type": "execute_result"
    }
   ],
   "source": [
    "results_with_complete_attempts = results333[(results333[attempt_columns] > 0).all(axis=1)]\n",
    "results_with_complete_attempts.corr()"
   ]
  },
  {
   "cell_type": "markdown",
   "metadata": {},
   "source": [
    "Jak widać wartości poszczególnych prób wykazują silną zależność, co wynika z faktu, że w momencie wykonywania danych 5 ułożeń osoba jest na konkretnym poziomie i osiąga zbliżone do siebie czasy.\n",
    "\n",
    "Korelacja rankingu oraz wskaźników nie jest wysoka, poniważ ranking wskazuje pozycję uzyskaną na konkretnych zawodach. Na zawodach o wysokim poziomie uzyskanie rankingu kwalifikującego do kolejnej rundy może wymagać czasów, które pozwoliłby na wygranie innych zawodów."
   ]
  },
  {
   "cell_type": "markdown",
   "metadata": {},
   "source": [
    "Porównajmy histogramy analogiczne do wcześniejszych dla większych łamigłówek:"
   ]
  },
  {
   "cell_type": "code",
   "execution_count": 16,
   "metadata": {},
   "outputs": [],
   "source": [
    "results = pd.read_sql_query(\"SELECT * FROM Results WHERE best > 0\", connection)"
   ]
  },
  {
   "cell_type": "code",
   "execution_count": 17,
   "metadata": {},
   "outputs": [
    {
     "data": {
      "image/png": "[encoded data removed]",
      "text/plain": [
       "<Figure size 432x288 with 1 Axes>"
      ]
     },
     "metadata": {
      "needs_background": "light"
     },
     "output_type": "display_data"
    }
   ],
   "source": [
    "plt.hist(complete_attempts(results[results.event_id == \"333\"]) / 100, bins=np.linspace(0, 400, 500), density=True, alpha=0.5, label=\"3x3x3\")\n",
    "plt.hist(complete_attempts(results[results.event_id == \"444\"]) / 100, bins=np.linspace(0, 400, 500), density=True, alpha=0.5, label=\"4x4x4\")\n",
    "plt.hist(complete_attempts(results[results.event_id == \"555\"]) / 100, bins=np.linspace(0, 400, 500), density=True, alpha=0.5, label=\"5x5x5\")\n",
    "plt.hist(complete_attempts(results[results.event_id == \"666\"]) / 100, bins=np.linspace(0, 400, 500), density=True, alpha=0.5, label=\"6x6x6\")\n",
    "plt.hist(complete_attempts(results[results.event_id == \"777\"]) / 100, bins=np.linspace(0, 400, 500), density=True, alpha=0.5, label=\"7x7x7\")\n",
    "plt.legend(loc=\"upper right\")\n",
    "plt.title(\"All attempts by event\")\n",
    "plt.xlabel(\"Time [s]\")\n",
    "plt.show()"
   ]
  },
  {
   "cell_type": "markdown",
   "metadata": {},
   "source": [
    "Łatwo dostrzec, że wszytkie z powyższych rozkładów cechują się parwoskośnością. Wraz z rozmiarem kostki są coraz bardziej rozpięte, co wynika z faktu, że wraz z wydłużeniem czasu potrzebnego na ułożenie łamigłówki, rośnie różnież zakres czasów jaki osiąga osoba na konkretnym poziomie (jedna sekunda w przypadku kostki 3x3x3 jest niezmiernie istotna w porównaniu z jedną sekundą w przypadku 7x7x7).\n",
    "\n",
    "Zbadajmy związek pomiędzy rekordem osobistym a liczbą zawodów, w których brało się udział."
   ]
  },
  {
   "cell_type": "code",
   "execution_count": 18,
   "metadata": {},
   "outputs": [],
   "source": [
    "competitions_and_best_by_person = pd.read_sql_query(\"SELECT person_id, COUNT(DISTINCT competition_id) competitions, MIN(best) personal_best FROM results WHERE event_id = '333' AND best > 0 AND best < 6000 GROUP BY person_id\", connection)"
   ]
  },
  {
   "cell_type": "code",
   "execution_count": 19,
   "metadata": {},
   "outputs": [
    {
     "data": {
      "image/png": "[encoded data removed]",
      "text/plain": [
       "<Figure size 432x288 with 1 Axes>"
      ]
     },
     "metadata": {
      "needs_background": "light"
     },
     "output_type": "display_data"
    }
   ],
   "source": [
    "plt.scatter(competitions_and_best_by_person.personal_best / 100, competitions_and_best_by_person.competitions)\n",
    "plt.xlabel(\"Personal best [s]\")\n",
    "plt.ylabel(\"Competitions\")\n",
    "plt.show()"
   ]
  },
  {
   "cell_type": "code",
   "execution_count": 20,
   "metadata": {},
   "outputs": [
    {
     "data": {
      "text/html": [
       "<div>\n",
       "<style scoped>\n",
       "    .dataframe tbody tr th:only-of-type {\n",
       "        vertical-align: middle;\n",
       "    }\n",
       "\n",
       "    .dataframe tbody tr th {\n",
       "        vertical-align: top;\n",
       "    }\n",
       "\n",
       "    .dataframe thead th {\n",
       "        text-align: right;\n",
       "    }\n",
       "</style>\n",
       "<table border=\"1\" class=\"dataframe\">\n",
       "  <thead>\n",
       "    <tr style=\"text-align: right;\">\n",
       "      <th></th>\n",
       "      <th>competitions</th>\n",
       "      <th>personal_best</th>\n",
       "    </tr>\n",
       "  </thead>\n",
       "  <tbody>\n",
       "    <tr>\n",
       "      <th>competitions</th>\n",
       "      <td>1.00000</td>\n",
       "      <td>-0.32581</td>\n",
       "    </tr>\n",
       "    <tr>\n",
       "      <th>personal_best</th>\n",
       "      <td>-0.32581</td>\n",
       "      <td>1.00000</td>\n",
       "    </tr>\n",
       "  </tbody>\n",
       "</table>\n",
       "</div>"
      ],
      "text/plain": [
       "               competitions  personal_best\n",
       "competitions        1.00000       -0.32581\n",
       "personal_best      -0.32581        1.00000"
      ]
     },
     "execution_count": 20,
     "metadata": {},
     "output_type": "execute_result"
    }
   ],
   "source": [
    "competitions_and_best_by_person.corr()"
   ]
  },
  {
   "cell_type": "markdown",
   "metadata": {},
   "source": [
    "Współczynnik korelacji wskazanych zmiennych jest oczywiście ujemny, ponieważ aby poprawić swoje wyniki kolejny raz trzeba odwiedzić kolejne zawody. Natomiast związek ten nie wydaje się być silny, prawdopodobnie dlatego, że na pewnym poziomie poprawianie swoich rekordów staje się trudniejsze i dlatego uczestniczenie w kolejnych zawodach nie implikuje poprawienia swoich wyników.\n",
    "\n",
    "W tym kontekście, przyjrzyjmy się rozkładowi liczby zawodów w jakich uczestniczą zawodnicy."
   ]
  },
  {
   "cell_type": "code",
   "execution_count": 21,
   "metadata": {},
   "outputs": [
    {
     "data": {
      "image/png": "[encoded data removed]",
      "text/plain": [
       "<Figure size 1008x345.6 with 2 Axes>"
      ]
     },
     "metadata": {
      "needs_background": "light"
     },
     "output_type": "display_data"
    }
   ],
   "source": [
    "competitions = competitions_and_best_by_person.competitions\n",
    "fig, (ax1, ax2) = plt.subplots(1, 2, figsize=(14, 4.8))\n",
    "ax1.hist(competitions[lambda c: c < 20], bins=range(1, 21))\n",
    "ax1.set_xlabel(\"Competitions\")\n",
    "ax1.set_ylabel(\"People\")\n",
    "ax1.set_xticks(range(1, 21))\n",
    "ax2.hist(competitions[lambda c: c >= 20], bins=range(20, 101))\n",
    "ax2.set_xlabel(\"Competitions\")\n",
    "ax2.set_ylabel(\"People\")\n",
    "plt.show()"
   ]
  },
  {
   "cell_type": "markdown",
   "metadata": {},
   "source": [
    "Obserwujemy wyraźny spadek liczby odwiedzonych zawodów, co oznacza że większość osób uczestniło w zaledwie kilku (zazwyczaj jednych) zawodach. Fakt ten wynikać może z wielu czynników, między innymi dostępności zawodów w danym kraju.\n",
    "\n",
    "Wielkość zawodów została zobrazowana ponizej:"
   ]
  },
  {
   "cell_type": "code",
   "execution_count": 22,
   "metadata": {},
   "outputs": [
    {
     "data": {
      "image/png": "[encoded data removed]",
      "text/plain": [
       "<Figure size 432x288 with 1 Axes>"
      ]
     },
     "metadata": {
      "needs_background": "light"
     },
     "output_type": "display_data"
    }
   ],
   "source": [
    "competition_sizes = pd.read_sql_query(\"SELECT COUNT(DISTINCT person_id) competitors FROM results GROUP BY competition_id\", connection)\n",
    "plt.hist(competition_sizes.competitors[lambda x: x < 250], bins=range(1, 251, 5))\n",
    "plt.xlabel(\"Number of competitors\")\n",
    "plt.ylabel(\"Competitions\")\n",
    "plt.show()"
   ]
  },
  {
   "cell_type": "code",
   "execution_count": 23,
   "metadata": {},
   "outputs": [
    {
     "data": {
      "text/plain": [
       "count   6758.00000\n",
       "mean      68.34877\n",
       "std       55.29249\n",
       "min        2.00000\n",
       "25%       35.00000\n",
       "50%       56.00000\n",
       "75%       87.00000\n",
       "max      955.00000\n",
       "Name: competitors, dtype: float64"
      ]
     },
     "execution_count": 23,
     "metadata": {},
     "output_type": "execute_result"
    }
   ],
   "source": [
    "competition_sizes.competitors.describe()"
   ]
  },
  {
   "cell_type": "markdown",
   "metadata": {},
   "source": [
    "Średnio w zawodach uczestniczy 68 osób, natomiast wysoka wartość odchylenia standardowego wskazuje na spore zróżnicowanie w tym zakresie. Największymi zawodami w historii były [Mistrzostwa Azji 2016](https://www.worldcubeassociation.org/competitions/AsianChampionship2016) liczące 955 zawodników.\n",
    "\n",
    "Spójrzmy na kilka zmiennych opisujących kraje:"
   ]
  },
  {
   "cell_type": "code",
   "execution_count": 24,
   "metadata": {},
   "outputs": [],
   "source": [
    "countries = pd.read_sql_query(\"\"\"\n",
    "    SELECT\n",
    "        COUNT(DISTINCT competition_id) competitions,\n",
    "        COUNT(DISTINCT person_id) competitors,\n",
    "        SUM(\n",
    "            CASE regional_single_record WHEN 'NULL' THEN 0 ELSE 1 END\n",
    "            +\n",
    "            CASE regional_average_record WHEN 'NULL' THEN 0 ELSE 1 END\n",
    "        ) records\n",
    "    FROM results\n",
    "    JOIN people ON people.id = person_id\n",
    "    GROUP BY country\n",
    "\"\"\", connection)"
   ]
  },
  {
   "cell_type": "code",
   "execution_count": 25,
   "metadata": {},
   "outputs": [
    {
     "data": {
      "text/html": [
       "<div>\n",
       "<style scoped>\n",
       "    .dataframe tbody tr th:only-of-type {\n",
       "        vertical-align: middle;\n",
       "    }\n",
       "\n",
       "    .dataframe tbody tr th {\n",
       "        vertical-align: top;\n",
       "    }\n",
       "\n",
       "    .dataframe thead th {\n",
       "        text-align: right;\n",
       "    }\n",
       "</style>\n",
       "<table border=\"1\" class=\"dataframe\">\n",
       "  <thead>\n",
       "    <tr style=\"text-align: right;\">\n",
       "      <th></th>\n",
       "      <th>competitions</th>\n",
       "      <th>competitors</th>\n",
       "      <th>records</th>\n",
       "    </tr>\n",
       "  </thead>\n",
       "  <tbody>\n",
       "    <tr>\n",
       "      <th>competitions</th>\n",
       "      <td>1.00000</td>\n",
       "      <td>0.89337</td>\n",
       "      <td>0.79697</td>\n",
       "    </tr>\n",
       "    <tr>\n",
       "      <th>competitors</th>\n",
       "      <td>0.89337</td>\n",
       "      <td>1.00000</td>\n",
       "      <td>0.54404</td>\n",
       "    </tr>\n",
       "    <tr>\n",
       "      <th>records</th>\n",
       "      <td>0.79697</td>\n",
       "      <td>0.54404</td>\n",
       "      <td>1.00000</td>\n",
       "    </tr>\n",
       "  </tbody>\n",
       "</table>\n",
       "</div>"
      ],
      "text/plain": [
       "              competitions  competitors  records\n",
       "competitions       1.00000      0.89337  0.79697\n",
       "competitors        0.89337      1.00000  0.54404\n",
       "records            0.79697      0.54404  1.00000"
      ]
     },
     "execution_count": 25,
     "metadata": {},
     "output_type": "execute_result"
    }
   ],
   "source": [
    "countries.corr()"
   ]
  },
  {
   "cell_type": "markdown",
   "metadata": {},
   "source": [
    "Widzimy, że liczba zawodów przekłada się bezpośrednio na liczbę zawodników z danego kraju (co pośrednio oznacza, że na zawodach pojawia się zwykle sporo nowych osób). Ponadto, liczba pobitych rekordów (kraju, kontynentu lub świata) jest również silnie zależna od liczby zawodów, ponieważ więcej zawodów daje naturalnie więcej okazji na pobicie rekordów. Dodatkowo większa liczba zawodów może implikować wiekszy poziom rozwoju danego kraju (w sensie speedcubingowym), a zatem większą szanse na pobicie rekordów.\n",
    "\n",
    "Zależność liczby zawodników od zawodów pokazana została na wykresie ponizej."
   ]
  },
  {
   "cell_type": "code",
   "execution_count": 207,
   "metadata": {},
   "outputs": [
    {
     "name": "stdout",
     "output_type": "stream",
     "text": [
      "a: 9.139, b: -550.829, r: 0.893\n"
     ]
    },
    {
     "data": {
      "image/png": "[encoded data removed]",
      "text/plain": [
       "<Figure size 432x288 with 1 Axes>"
      ]
     },
     "metadata": {
      "needs_background": "light"
     },
     "output_type": "display_data"
    }
   ],
   "source": [
    "plt.scatter(countries.competitions, countries.competitors)\n",
    "plt.xlabel(\"Competitions\")\n",
    "plt.ylabel(\"Competitors\")\n",
    "\n",
    "# Fit a line using least-squares regression.\n",
    "a, b, rvalue, _, _ = stats.linregress(countries.competitions, countries.competitors)\n",
    "print(\"a: {:.3f}, b: {:.3f}, r: {:.3f}\".format(a, b, rvalue))\n",
    "x = np.linspace(0, 2500, 100)\n",
    "y = x * a + b\n",
    "plt.plot(x, y, color=\"orange\")\n",
    "\n",
    "plt.show()"
   ]
  },
  {
   "cell_type": "markdown",
   "metadata": {},
   "source": [
    "Zbadajmy zależność uzyskiwanych wyników od płci. Warto zaznaczyć, że kobiety stanowią jedynie `10%` zawodników, jednak ich liczność w wysokości 14 660 wydaje się wystarczająco reprezentatywna, by uzasadnione było badanie wspomnianego związku."
   ]
  },
  {
   "cell_type": "code",
   "execution_count": 187,
   "metadata": {},
   "outputs": [],
   "source": [
    "results333_with_gender = pd.read_sql_query(\"\"\"\n",
    "    SELECT results.*, gender\n",
    "    FROM results\n",
    "    JOIN people ON people.id = results.person_id\n",
    "    WHERE event_id = '333' AND best > 0 AND gender IN ('m', 'f')\n",
    "\"\"\", connection)"
   ]
  },
  {
   "cell_type": "code",
   "execution_count": 188,
   "metadata": {},
   "outputs": [
    {
     "data": {
      "image/png": "[encoded data removed]",
      "text/plain": [
       "<Figure size 432x288 with 1 Axes>"
      ]
     },
     "metadata": {
      "needs_background": "light"
     },
     "output_type": "display_data"
    }
   ],
   "source": [
    "male_attempts_s = complete_attempts(results333_with_gender[results333_with_gender.gender == \"m\"]) / 100\n",
    "female_attempts_s = complete_attempts(results333_with_gender[results333_with_gender.gender == \"f\"]) / 100\n",
    "plt.hist(male_attempts_s, bins=np.linspace(0, 120, 500), density=True, alpha=0.5, label=\"Male\")\n",
    "plt.hist(female_attempts_s, bins=np.linspace(0, 120, 500), density=True, alpha=0.5, label=\"Female\")\n",
    "plt.legend(loc=\"upper right\")\n",
    "plt.title(\"[3x3x3] All attempts\")\n",
    "plt.xlabel(\"Time [s]\")\n",
    "plt.show()"
   ]
  },
  {
   "cell_type": "code",
   "execution_count": 189,
   "metadata": {},
   "outputs": [
    {
     "data": {
      "text/html": [
       "<div>\n",
       "<style scoped>\n",
       "    .dataframe tbody tr th:only-of-type {\n",
       "        vertical-align: middle;\n",
       "    }\n",
       "\n",
       "    .dataframe tbody tr th {\n",
       "        vertical-align: top;\n",
       "    }\n",
       "\n",
       "    .dataframe thead th {\n",
       "        text-align: right;\n",
       "    }\n",
       "</style>\n",
       "<table border=\"1\" class=\"dataframe\">\n",
       "  <thead>\n",
       "    <tr style=\"text-align: right;\">\n",
       "      <th></th>\n",
       "      <th>count</th>\n",
       "      <th>mean</th>\n",
       "      <th>std</th>\n",
       "      <th>min</th>\n",
       "      <th>25%</th>\n",
       "      <th>50%</th>\n",
       "      <th>75%</th>\n",
       "      <th>max</th>\n",
       "    </tr>\n",
       "    <tr>\n",
       "      <th>gender</th>\n",
       "      <th></th>\n",
       "      <th></th>\n",
       "      <th></th>\n",
       "      <th></th>\n",
       "      <th></th>\n",
       "      <th></th>\n",
       "      <th></th>\n",
       "      <th></th>\n",
       "    </tr>\n",
       "  </thead>\n",
       "  <tbody>\n",
       "    <tr>\n",
       "      <th>f</th>\n",
       "      <td>242104.00000</td>\n",
       "      <td>38.18087</td>\n",
       "      <td>34.34872</td>\n",
       "      <td>4.44000</td>\n",
       "      <td>16.60000</td>\n",
       "      <td>25.75000</td>\n",
       "      <td>48.77000</td>\n",
       "      <td>908.00000</td>\n",
       "    </tr>\n",
       "    <tr>\n",
       "      <th>m</th>\n",
       "      <td>3237817.00000</td>\n",
       "      <td>22.72103</td>\n",
       "      <td>18.32812</td>\n",
       "      <td>3.47000</td>\n",
       "      <td>12.94000</td>\n",
       "      <td>17.05000</td>\n",
       "      <td>25.27000</td>\n",
       "      <td>790.00000</td>\n",
       "    </tr>\n",
       "  </tbody>\n",
       "</table>\n",
       "</div>"
      ],
      "text/plain": [
       "               count     mean      std     min      25%      50%      75%  \\\n",
       "gender                                                                      \n",
       "f       242104.00000 38.18087 34.34872 4.44000 16.60000 25.75000 48.77000   \n",
       "m      3237817.00000 22.72103 18.32812 3.47000 12.94000 17.05000 25.27000   \n",
       "\n",
       "             max  \n",
       "gender            \n",
       "f      908.00000  \n",
       "m      790.00000  "
      ]
     },
     "execution_count": 189,
     "metadata": {},
     "output_type": "execute_result"
    }
   ],
   "source": [
    "mf_results = results333_with_gender[results333_with_gender.gender.isin([\"m\", \"f\"])]\n",
    "mf_results.groupby(\"gender\").apply(lambda results: (complete_attempts(results) / 100).describe())"
   ]
  },
  {
   "cell_type": "markdown",
   "metadata": {},
   "source": [
    "Jak widać dotychczasowe wyniki kobiet w klasycznej kostce 3x3x3 są w ogólności wyraźnie słabsze oraz bardziej zróżnicowane (cechują się prawie drukrotnie większym odchyleniem standardowym).\n",
    "\n",
    "W kolejnym kroku rozszerzmy badanie tej zależności o inne konkurencje. W tym celu dla każdej z konkurencji obliczamy średni czas kobiet oraz średni czas mężczyzn i reprezentujemy jako punkt na wykresie."
   ]
  },
  {
   "cell_type": "code",
   "execution_count": 190,
   "metadata": {},
   "outputs": [],
   "source": [
    "results_with_gender = pd.read_sql_query(\"\"\"\n",
    "    SELECT results.*, gender\n",
    "    FROM Results\n",
    "    JOIN people ON people.id = person_id\n",
    "    WHERE best > 0 AND event_id NOT IN ('333mbf', '333mbo', '333fm') AND gender IN ('m', 'f')\n",
    "\"\"\", connection)"
   ]
  },
  {
   "cell_type": "code",
   "execution_count": 202,
   "metadata": {},
   "outputs": [],
   "source": [
    "means_by_gender = r.groupby([\"event_id\", \"gender\"]).apply(\n",
    "    lambda results: pd.Series({ \"attempts_mean\": complete_attempts(results).mean() })\n",
    ").reset_index()"
   ]
  },
  {
   "cell_type": "code",
   "execution_count": 208,
   "metadata": {},
   "outputs": [
    {
     "name": "stdout",
     "output_type": "stream",
     "text": [
      "a: 1.228, b: -8.294, r: 0.999\n"
     ]
    },
    {
     "data": {
      "image/png": "[encoded data removed]",
      "text/plain": [
       "<Figure size 432x288 with 1 Axes>"
      ]
     },
     "metadata": {
      "needs_background": "light"
     },
     "output_type": "display_data"
    }
   ],
   "source": [
    "male_means_s = means_by_gender[means_by_gender.gender == \"m\"].attempts_mean / 100\n",
    "female_means_s = means_by_gender[means_by_gender.gender == \"f\"].attempts_mean / 100\n",
    "plt.scatter(male_means_s, female_means_s)\n",
    "plt.title(\"Mean times by event\")\n",
    "plt.xlabel(\"Male mean time\")\n",
    "plt.ylabel(\"Female mean time\")\n",
    "\n",
    "# Fit a line using least-squares regression.\n",
    "a, b, rvalue, _, _ = stats.linregress(male_means_s, female_means_s)\n",
    "print(\"a: {:.3f}, b: {:.3f}, r: {:.3f}\".format(a, b, rvalue))\n",
    "x = np.linspace(0, 1100, 100)\n",
    "y = x * a + b\n",
    "plt.plot(x, y, color=\"orange\")\n",
    "\n",
    "plt.show()"
   ]
  },
  {
   "cell_type": "markdown",
   "metadata": {},
   "source": [
    "Jak widać zależność jest niemalże idealnie liniowa (współczynnik korelacji ≈ 1). Istotnym parametrem jest nachylenie prostej wynoszące `1.228`, co oznacza, że niezależnie od konkurencji kobiety są średnio o `22.8%` wolniejsze od mężczyzn."
   ]
  }
 ],
 "metadata": {
  "kernelspec": {
   "display_name": "Python 3",
   "language": "python",
   "name": "python3"
  },
  "language_info": {
   "codemirror_mode": {
    "name": "ipython",
    "version": 3
   },
   "file_extension": ".py",
   "mimetype": "text/x-python",
   "name": "python",
   "nbconvert_exporter": "python",
   "pygments_lexer": "ipython3",
   "version": "3.7.5"
  }
 },
 "nbformat": 4,
 "nbformat_minor": 2
}
